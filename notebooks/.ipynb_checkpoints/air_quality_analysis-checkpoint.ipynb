{
 "cells": [
  {
   "cell_type": "code",
   "execution_count": null,
   "id": "b2c4d881-af5c-4f04-8b66-e5b64abd9c62",
   "metadata": {},
   "outputs": [],
   "source": [
    "# Goal: Predict NO₂ concentration from meteorological and pollutant data.\n",
    "# Extra: Classify whether a day’s NO₂ level exceeds a WHO-recommended threshold."
   ]
  }
 ],
 "metadata": {
  "kernelspec": {
   "display_name": "Python 3 (ipykernel)",
   "language": "python",
   "name": "python3"
  },
  "language_info": {
   "codemirror_mode": {
    "name": "ipython",
    "version": 3
   },
   "file_extension": ".py",
   "mimetype": "text/x-python",
   "name": "python",
   "nbconvert_exporter": "python",
   "pygments_lexer": "ipython3",
   "version": "3.12.7"
  }
 },
 "nbformat": 4,
 "nbformat_minor": 5
}
